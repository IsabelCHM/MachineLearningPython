{
 "cells": [
  {
   "cell_type": "code",
   "execution_count": 1,
   "metadata": {},
   "outputs": [
    {
     "name": "stderr",
     "output_type": "stream",
     "text": [
      "Using TensorFlow backend.\n"
     ]
    }
   ],
   "source": [
    "import numpy as np\n",
    "import pandas as pd\n",
    "import sys\n",
    "import tensorflow as tf\n",
    "import matplotlib.pyplot as plot\n",
    "import cv2\n",
    "import os\n",
    "from os.path import dirname, join\n",
    "from keras.preprocessing.image import ImageDataGenerator\n",
    "import matplotlib.pyplot as plt"
   ]
  },
  {
   "cell_type": "code",
   "execution_count": 2,
   "metadata": {},
   "outputs": [],
   "source": [
    "def load_images_from_folder(folder):\n",
    "    images = []\n",
    "    for filename in os.listdir(folder):\n",
    "        img = cv2.imread(os.path.join(folder,filename))\n",
    "        if img is not None:\n",
    "            images.append(img)\n",
    "    return images"
   ]
  },
  {
   "cell_type": "code",
   "execution_count": 3,
   "metadata": {},
   "outputs": [],
   "source": [
    "test_folder = r'F:\\Studying Life\\GDipSA\\Courses\\SA4108\\CA\\Part II\\test\\test'\n",
    "train_folder = r'F:\\Studying Life\\GDipSA\\Courses\\SA4108\\CA\\Part II\\train\\train'\n",
    "img_test = load_images_from_folder(test_folder)\n",
    "img_train = load_images_from_folder(train_folder)"
   ]
  },
  {
   "cell_type": "code",
   "execution_count": 4,
   "metadata": {},
   "outputs": [
    {
     "name": "stdout",
     "output_type": "stream",
     "text": [
      "(229, 300, 3)\n",
      "(350, 350, 3)\n",
      "(720, 720, 3)\n",
      "(500, 600, 3)\n",
      "(1749, 1500, 3)\n",
      "(470, 416, 3)\n",
      "(745, 800, 3)\n",
      "(565, 850, 3)\n",
      "(400, 500, 3)\n",
      "(282, 425, 3)\n",
      "(480, 480, 3)\n",
      "(1300, 1300, 3)\n",
      "(364, 319, 3)\n",
      "(2000, 1814, 3)\n",
      "(573, 960, 3)\n",
      "(600, 600, 3)\n",
      "(350, 528, 3)\n",
      "(448, 673, 3)\n",
      "(1200, 1920, 3)\n",
      "(360, 300, 3)\n",
      "(360, 361, 3)\n",
      "(797, 1300, 3)\n",
      "(500, 500, 3)\n",
      "(547, 766, 3)\n",
      "(667, 1000, 3)\n",
      "(355, 630, 3)\n",
      "(366, 650, 3)\n",
      "(1506, 2679, 3)\n",
      "(1980, 1320, 3)\n",
      "(325, 824, 3)\n",
      "(549, 732, 3)\n",
      "(1000, 1000, 3)\n",
      "(478, 851, 3)\n",
      "(500, 750, 3)\n",
      "(355, 344, 3)\n",
      "(450, 450, 3)\n",
      "(312, 355, 3)\n",
      "(535, 800, 3)\n",
      "(1024, 1009, 3)\n",
      "(1124, 1500, 3)\n",
      "(260, 460, 3)\n",
      "(320, 450, 3)\n",
      "(549, 732, 3)\n",
      "(297, 615, 3)\n",
      "(425, 425, 3)\n",
      "(1125, 1500, 3)\n",
      "(990, 1300, 3)\n",
      "(651, 650, 3)\n",
      "(800, 800, 3)\n",
      "(360, 460, 3)\n",
      "(864, 648, 3)\n",
      "(360, 480, 3)\n",
      "(450, 462, 3)\n",
      "(900, 1200, 3)\n",
      "(268, 355, 3)\n",
      "(676, 800, 3)\n",
      "(254, 390, 3)\n",
      "(188, 282, 3)\n",
      "(352, 407, 3)\n",
      "(1380, 1360, 3)\n"
     ]
    }
   ],
   "source": [
    "for i in img_test:\n",
    "    print(i.shape)"
   ]
  },
  {
   "cell_type": "code",
   "execution_count": 5,
   "metadata": {},
   "outputs": [
    {
     "data": {
      "text/plain": [
       "60"
      ]
     },
     "execution_count": 5,
     "metadata": {},
     "output_type": "execute_result"
    }
   ],
   "source": [
    "len(img_test)"
   ]
  },
  {
   "cell_type": "code",
   "execution_count": 6,
   "metadata": {},
   "outputs": [],
   "source": [
    "def image_resize(size, img):\n",
    "    images_resized = []\n",
    "    dim = (size, size)\n",
    "    for i in img:\n",
    "        resized = cv2.resize(i, dim, interpolation = cv2.INTER_AREA)\n",
    "        images_resized.append(resized)\n",
    "    return images_resized"
   ]
  },
  {
   "cell_type": "code",
   "execution_count": 7,
   "metadata": {},
   "outputs": [
    {
     "name": "stdout",
     "output_type": "stream",
     "text": [
      "Resized Dimensions :  (224, 224, 3)\n",
      "Resized Dimensions :  (224, 224, 3)\n",
      "Resized Dimensions :  (224, 224, 3)\n",
      "Resized Dimensions :  (224, 224, 3)\n",
      "Resized Dimensions :  (224, 224, 3)\n",
      "Resized Dimensions :  (224, 224, 3)\n",
      "Resized Dimensions :  (224, 224, 3)\n",
      "Resized Dimensions :  (224, 224, 3)\n",
      "Resized Dimensions :  (224, 224, 3)\n",
      "Resized Dimensions :  (224, 224, 3)\n",
      "Resized Dimensions :  (224, 224, 3)\n",
      "Resized Dimensions :  (224, 224, 3)\n",
      "Resized Dimensions :  (224, 224, 3)\n",
      "Resized Dimensions :  (224, 224, 3)\n",
      "Resized Dimensions :  (224, 224, 3)\n",
      "Resized Dimensions :  (224, 224, 3)\n",
      "Resized Dimensions :  (224, 224, 3)\n",
      "Resized Dimensions :  (224, 224, 3)\n",
      "Resized Dimensions :  (224, 224, 3)\n",
      "Resized Dimensions :  (224, 224, 3)\n",
      "Resized Dimensions :  (224, 224, 3)\n",
      "Resized Dimensions :  (224, 224, 3)\n",
      "Resized Dimensions :  (224, 224, 3)\n",
      "Resized Dimensions :  (224, 224, 3)\n",
      "Resized Dimensions :  (224, 224, 3)\n",
      "Resized Dimensions :  (224, 224, 3)\n",
      "Resized Dimensions :  (224, 224, 3)\n",
      "Resized Dimensions :  (224, 224, 3)\n",
      "Resized Dimensions :  (224, 224, 3)\n",
      "Resized Dimensions :  (224, 224, 3)\n",
      "Resized Dimensions :  (224, 224, 3)\n",
      "Resized Dimensions :  (224, 224, 3)\n",
      "Resized Dimensions :  (224, 224, 3)\n",
      "Resized Dimensions :  (224, 224, 3)\n",
      "Resized Dimensions :  (224, 224, 3)\n",
      "Resized Dimensions :  (224, 224, 3)\n",
      "Resized Dimensions :  (224, 224, 3)\n",
      "Resized Dimensions :  (224, 224, 3)\n",
      "Resized Dimensions :  (224, 224, 3)\n",
      "Resized Dimensions :  (224, 224, 3)\n",
      "Resized Dimensions :  (224, 224, 3)\n",
      "Resized Dimensions :  (224, 224, 3)\n",
      "Resized Dimensions :  (224, 224, 3)\n",
      "Resized Dimensions :  (224, 224, 3)\n",
      "Resized Dimensions :  (224, 224, 3)\n",
      "Resized Dimensions :  (224, 224, 3)\n",
      "Resized Dimensions :  (224, 224, 3)\n",
      "Resized Dimensions :  (224, 224, 3)\n",
      "Resized Dimensions :  (224, 224, 3)\n",
      "Resized Dimensions :  (224, 224, 3)\n",
      "Resized Dimensions :  (224, 224, 3)\n",
      "Resized Dimensions :  (224, 224, 3)\n",
      "Resized Dimensions :  (224, 224, 3)\n",
      "Resized Dimensions :  (224, 224, 3)\n",
      "Resized Dimensions :  (224, 224, 3)\n",
      "Resized Dimensions :  (224, 224, 3)\n",
      "Resized Dimensions :  (224, 224, 3)\n",
      "Resized Dimensions :  (224, 224, 3)\n",
      "Resized Dimensions :  (224, 224, 3)\n",
      "Resized Dimensions :  (224, 224, 3)\n"
     ]
    }
   ],
   "source": [
    "_x_test = image_resize(224, img_test)\n",
    "for i in _x_test:\n",
    "    print('Resized Dimensions : ',i.shape)\n",
    "\n",
    "_x_train = image_resize(224, img_train)"
   ]
  },
  {
   "cell_type": "code",
   "execution_count": 8,
   "metadata": {},
   "outputs": [],
   "source": [
    "def getLabel(folder):\n",
    "    label = []\n",
    "    for filename in os.listdir(folder):\n",
    "        img = cv2.imread(os.path.join(folder,filename))\n",
    "        if img is not None:\n",
    "            if filename[0] == 'a':\n",
    "                label.append(0)\n",
    "            elif filename[0] == 'b':\n",
    "                label.append(1)\n",
    "            elif filename[0] == 'm':\n",
    "                label.append(2)\n",
    "            elif filename[0] == 'o':\n",
    "                label.append(3)\n",
    "    return label"
   ]
  },
  {
   "cell_type": "code",
   "execution_count": 9,
   "metadata": {},
   "outputs": [
    {
     "data": {
      "text/plain": [
       "60"
      ]
     },
     "execution_count": 9,
     "metadata": {},
     "output_type": "execute_result"
    }
   ],
   "source": [
    "_y_test = getLabel(test_folder)\n",
    "_y_train = getLabel(train_folder)\n",
    "len(_y_test)"
   ]
  },
  {
   "cell_type": "code",
   "execution_count": 10,
   "metadata": {},
   "outputs": [
    {
     "data": {
      "text/plain": [
       "[0,\n",
       " 0,\n",
       " 0,\n",
       " 0,\n",
       " 0,\n",
       " 0,\n",
       " 0,\n",
       " 0,\n",
       " 0,\n",
       " 0,\n",
       " 0,\n",
       " 0,\n",
       " 0,\n",
       " 0,\n",
       " 0,\n",
       " 0,\n",
       " 0,\n",
       " 0,\n",
       " 0,\n",
       " 1,\n",
       " 1,\n",
       " 1,\n",
       " 1,\n",
       " 1,\n",
       " 1,\n",
       " 1,\n",
       " 1,\n",
       " 1,\n",
       " 1,\n",
       " 1,\n",
       " 1,\n",
       " 1,\n",
       " 1,\n",
       " 1,\n",
       " 1,\n",
       " 1,\n",
       " 1,\n",
       " 2,\n",
       " 2,\n",
       " 2,\n",
       " 2,\n",
       " 2,\n",
       " 3,\n",
       " 3,\n",
       " 3,\n",
       " 3,\n",
       " 3,\n",
       " 3,\n",
       " 3,\n",
       " 3,\n",
       " 3,\n",
       " 3,\n",
       " 3,\n",
       " 3,\n",
       " 3,\n",
       " 3,\n",
       " 3,\n",
       " 3,\n",
       " 3,\n",
       " 3]"
      ]
     },
     "execution_count": 10,
     "metadata": {},
     "output_type": "execute_result"
    }
   ],
   "source": [
    "_y_test"
   ]
  },
  {
   "cell_type": "code",
   "execution_count": 11,
   "metadata": {},
   "outputs": [
    {
     "data": {
      "text/plain": [
       "(240, 224, 224, 3)"
      ]
     },
     "execution_count": 11,
     "metadata": {},
     "output_type": "execute_result"
    }
   ],
   "source": [
    "x_test = np.array(_x_test)\n",
    "X = np.array(_x_train)\n",
    "\n",
    "X.shape"
   ]
  },
  {
   "cell_type": "code",
   "execution_count": 12,
   "metadata": {},
   "outputs": [
    {
     "data": {
      "text/plain": [
       "(240, 4)"
      ]
     },
     "execution_count": 12,
     "metadata": {},
     "output_type": "execute_result"
    }
   ],
   "source": [
    "X = X / 255\n",
    "x_test = x_test / 255\n",
    "\n",
    "# convert 1 dimensional array to 4-dimensional array\n",
    "# each row in y_train and y_test is one-hot encoded\n",
    "Y = tf.keras.utils.to_categorical(_y_train, 4)\n",
    "y_test = tf.keras.utils.to_categorical(_y_test, 4)\n",
    "\n",
    "Y.shape"
   ]
  },
  {
   "cell_type": "code",
   "execution_count": 13,
   "metadata": {},
   "outputs": [
    {
     "name": "stdout",
     "output_type": "stream",
     "text": [
      "[[1. 0. 0. 0.]\n",
      " [1. 0. 0. 0.]\n",
      " [1. 0. 0. 0.]\n",
      " [1. 0. 0. 0.]\n",
      " [1. 0. 0. 0.]\n",
      " [1. 0. 0. 0.]\n",
      " [1. 0. 0. 0.]\n",
      " [1. 0. 0. 0.]\n",
      " [1. 0. 0. 0.]\n",
      " [1. 0. 0. 0.]]\n"
     ]
    }
   ],
   "source": [
    "print(Y[0:10])"
   ]
  },
  {
   "cell_type": "code",
   "execution_count": 14,
   "metadata": {},
   "outputs": [],
   "source": [
    "from sklearn.model_selection import train_test_split\n",
    "\n",
    "x_train, x_val, y_train, y_val = train_test_split(X, Y, test_size=0.2, random_state=1)"
   ]
  },
  {
   "cell_type": "markdown",
   "metadata": {},
   "source": [
    "Without Data Augmentation"
   ]
  },
  {
   "cell_type": "code",
   "execution_count": 15,
   "metadata": {},
   "outputs": [
    {
     "name": "stdout",
     "output_type": "stream",
     "text": [
      "Model: \"sequential\"\n",
      "_________________________________________________________________\n",
      "Layer (type)                 Output Shape              Param #   \n",
      "=================================================================\n",
      "conv2d (Conv2D)              (None, 222, 222, 32)      896       \n",
      "_________________________________________________________________\n",
      "max_pooling2d (MaxPooling2D) (None, 111, 111, 32)      0         \n",
      "_________________________________________________________________\n",
      "conv2d_1 (Conv2D)            (None, 109, 109, 32)      9248      \n",
      "_________________________________________________________________\n",
      "max_pooling2d_1 (MaxPooling2 (None, 54, 54, 32)        0         \n",
      "_________________________________________________________________\n",
      "conv2d_2 (Conv2D)            (None, 52, 52, 64)        18496     \n",
      "_________________________________________________________________\n",
      "max_pooling2d_2 (MaxPooling2 (None, 26, 26, 64)        0         \n",
      "_________________________________________________________________\n",
      "flatten (Flatten)            (None, 43264)             0         \n",
      "_________________________________________________________________\n",
      "dense (Dense)                (None, 64)                2768960   \n",
      "_________________________________________________________________\n",
      "dropout (Dropout)            (None, 64)                0         \n",
      "_________________________________________________________________\n",
      "dense_1 (Dense)              (None, 4)                 260       \n",
      "=================================================================\n",
      "Total params: 2,797,860\n",
      "Trainable params: 2,797,860\n",
      "Non-trainable params: 0\n",
      "_________________________________________________________________\n"
     ]
    }
   ],
   "source": [
    "model_s = tf.keras.Sequential()\n",
    "model_s.add(tf.keras.layers.Conv2D(32, (3, 3), \n",
    "    activation='relu', input_shape=(224, 224, 3)))\n",
    "model_s.add(tf.keras.layers.MaxPooling2D(pool_size=(2,2)))\n",
    "model_s.add(tf.keras.layers.Conv2D(32, (3, 3), \n",
    "    activation='relu'))\n",
    "model_s.add(tf.keras.layers.MaxPooling2D(pool_size=(2,2)))\n",
    "model_s.add(tf.keras.layers.Conv2D(64, (3, 3), \n",
    "    activation='relu'))\n",
    "model_s.add(tf.keras.layers.MaxPooling2D(pool_size=(2,2)))\n",
    "model_s.add(tf.keras.layers.Flatten())\n",
    "model_s.add(tf.keras.layers.Dense(64, activation='relu'))\n",
    "model_s.add(tf.keras.layers.Dropout(0.5))\n",
    "model_s.add(tf.keras.layers.Dense(4, activation='softmax'))\n",
    "model_s.compile(loss='categorical_crossentropy',\n",
    "          optimizer='adam',\n",
    "          metrics=['accuracy'])\n",
    "model_s.summary()"
   ]
  },
  {
   "cell_type": "code",
   "execution_count": 16,
   "metadata": {},
   "outputs": [
    {
     "name": "stdout",
     "output_type": "stream",
     "text": [
      "Train on 192 samples, validate on 48 samples\n",
      "Epoch 1/50\n",
      "192/192 [==============================] - 4s 21ms/sample - loss: 2.0394 - accuracy: 0.3490 - val_loss: 1.2301 - val_accuracy: 0.5833\n",
      "Epoch 2/50\n",
      "192/192 [==============================] - 3s 18ms/sample - loss: 1.0966 - accuracy: 0.5938 - val_loss: 0.8372 - val_accuracy: 0.5833\n",
      "Epoch 3/50\n",
      "192/192 [==============================] - 3s 18ms/sample - loss: 0.8436 - accuracy: 0.6719 - val_loss: 0.6472 - val_accuracy: 0.7917\n",
      "Epoch 4/50\n",
      "192/192 [==============================] - 3s 18ms/sample - loss: 0.6118 - accuracy: 0.8073 - val_loss: 0.5429 - val_accuracy: 0.7917\n",
      "Epoch 5/50\n",
      "192/192 [==============================] - 3s 18ms/sample - loss: 0.4786 - accuracy: 0.8333 - val_loss: 0.5174 - val_accuracy: 0.8542\n",
      "Epoch 6/50\n",
      "192/192 [==============================] - 3s 18ms/sample - loss: 0.4417 - accuracy: 0.8698 - val_loss: 0.4039 - val_accuracy: 0.8125\n",
      "Epoch 7/50\n",
      "192/192 [==============================] - 3s 18ms/sample - loss: 0.3640 - accuracy: 0.8490 - val_loss: 0.5385 - val_accuracy: 0.8542\n",
      "Epoch 8/50\n",
      "192/192 [==============================] - 3s 18ms/sample - loss: 0.3392 - accuracy: 0.8646 - val_loss: 0.2687 - val_accuracy: 0.8542\n",
      "Epoch 9/50\n",
      "192/192 [==============================] - 3s 18ms/sample - loss: 0.2378 - accuracy: 0.8958 - val_loss: 0.4896 - val_accuracy: 0.7917\n",
      "Epoch 10/50\n",
      "192/192 [==============================] - 3s 18ms/sample - loss: 0.2854 - accuracy: 0.8854 - val_loss: 0.2342 - val_accuracy: 0.9167\n",
      "Epoch 11/50\n",
      "192/192 [==============================] - 3s 18ms/sample - loss: 0.2483 - accuracy: 0.9271 - val_loss: 0.4229 - val_accuracy: 0.8542\n",
      "Epoch 12/50\n",
      "192/192 [==============================] - 3s 18ms/sample - loss: 0.2267 - accuracy: 0.9375 - val_loss: 0.4923 - val_accuracy: 0.8542\n",
      "Epoch 13/50\n",
      "192/192 [==============================] - 3s 18ms/sample - loss: 0.1919 - accuracy: 0.9271 - val_loss: 0.5101 - val_accuracy: 0.8750\n",
      "Epoch 14/50\n",
      "192/192 [==============================] - 3s 18ms/sample - loss: 0.1756 - accuracy: 0.9375 - val_loss: 0.5429 - val_accuracy: 0.8333\n",
      "Epoch 15/50\n",
      "192/192 [==============================] - 3s 18ms/sample - loss: 0.1829 - accuracy: 0.9271 - val_loss: 0.9526 - val_accuracy: 0.8542\n",
      "Epoch 16/50\n",
      "192/192 [==============================] - 3s 18ms/sample - loss: 0.1917 - accuracy: 0.9219 - val_loss: 0.7590 - val_accuracy: 0.8125\n",
      "Epoch 17/50\n",
      "192/192 [==============================] - 3s 18ms/sample - loss: 0.1771 - accuracy: 0.9219 - val_loss: 0.7229 - val_accuracy: 0.8333\n",
      "Epoch 18/50\n",
      "192/192 [==============================] - 3s 18ms/sample - loss: 0.1187 - accuracy: 0.9583 - val_loss: 0.8818 - val_accuracy: 0.8333\n",
      "Epoch 19/50\n",
      "192/192 [==============================] - 3s 18ms/sample - loss: 0.1252 - accuracy: 0.9583 - val_loss: 0.5797 - val_accuracy: 0.8958\n",
      "Epoch 20/50\n",
      "192/192 [==============================] - 3s 18ms/sample - loss: 0.1025 - accuracy: 0.9688 - val_loss: 0.4821 - val_accuracy: 0.8958\n",
      "Epoch 21/50\n",
      "192/192 [==============================] - 3s 18ms/sample - loss: 0.0708 - accuracy: 0.9688 - val_loss: 0.4414 - val_accuracy: 0.8958\n",
      "Epoch 22/50\n",
      "192/192 [==============================] - 3s 18ms/sample - loss: 0.0948 - accuracy: 0.9740 - val_loss: 0.6190 - val_accuracy: 0.8750\n",
      "Epoch 23/50\n",
      "192/192 [==============================] - 3s 18ms/sample - loss: 0.0392 - accuracy: 0.9896 - val_loss: 0.9388 - val_accuracy: 0.8542\n",
      "Epoch 24/50\n",
      "192/192 [==============================] - 3s 18ms/sample - loss: 0.0977 - accuracy: 0.9583 - val_loss: 0.9151 - val_accuracy: 0.8542\n",
      "Epoch 25/50\n",
      "192/192 [==============================] - 3s 18ms/sample - loss: 0.0634 - accuracy: 0.9844 - val_loss: 0.6856 - val_accuracy: 0.8333\n",
      "Epoch 26/50\n",
      "192/192 [==============================] - 3s 18ms/sample - loss: 0.0602 - accuracy: 0.9740 - val_loss: 0.5106 - val_accuracy: 0.8750\n",
      "Epoch 27/50\n",
      "192/192 [==============================] - 3s 18ms/sample - loss: 0.0737 - accuracy: 0.9792 - val_loss: 0.6889 - val_accuracy: 0.8542\n",
      "Epoch 28/50\n",
      "192/192 [==============================] - 4s 19ms/sample - loss: 0.0399 - accuracy: 0.9792 - val_loss: 0.6356 - val_accuracy: 0.8125\n",
      "Epoch 29/50\n",
      "192/192 [==============================] - 4s 19ms/sample - loss: 0.0401 - accuracy: 0.9896 - val_loss: 0.6177 - val_accuracy: 0.8542\n",
      "Epoch 30/50\n",
      "192/192 [==============================] - 4s 19ms/sample - loss: 0.0394 - accuracy: 0.9896 - val_loss: 0.7056 - val_accuracy: 0.8542\n",
      "Epoch 31/50\n",
      "192/192 [==============================] - 4s 20ms/sample - loss: 0.0595 - accuracy: 0.9844 - val_loss: 0.9352 - val_accuracy: 0.8750\n",
      "Epoch 32/50\n",
      "192/192 [==============================] - 4s 18ms/sample - loss: 0.0719 - accuracy: 0.9740 - val_loss: 0.7934 - val_accuracy: 0.8750\n",
      "Epoch 33/50\n",
      "192/192 [==============================] - 3s 18ms/sample - loss: 0.0570 - accuracy: 0.9792 - val_loss: 0.7451 - val_accuracy: 0.8333\n",
      "Epoch 34/50\n",
      "192/192 [==============================] - 3s 18ms/sample - loss: 0.0264 - accuracy: 1.0000 - val_loss: 0.4064 - val_accuracy: 0.8750\n",
      "Epoch 35/50\n",
      "192/192 [==============================] - 3s 18ms/sample - loss: 0.0619 - accuracy: 0.9740 - val_loss: 1.4247 - val_accuracy: 0.8125\n",
      "Epoch 36/50\n",
      "192/192 [==============================] - 4s 18ms/sample - loss: 0.1160 - accuracy: 0.9583 - val_loss: 0.3657 - val_accuracy: 0.8958\n",
      "Epoch 37/50\n",
      "192/192 [==============================] - 4s 18ms/sample - loss: 0.2045 - accuracy: 0.9427 - val_loss: 0.9202 - val_accuracy: 0.8333\n",
      "Epoch 38/50\n",
      "192/192 [==============================] - 3s 18ms/sample - loss: 0.1110 - accuracy: 0.9531 - val_loss: 0.3402 - val_accuracy: 0.8958\n",
      "Epoch 39/50\n",
      "192/192 [==============================] - 3s 18ms/sample - loss: 0.0924 - accuracy: 0.9531 - val_loss: 0.3711 - val_accuracy: 0.8750\n",
      "Epoch 40/50\n",
      "192/192 [==============================] - 3s 18ms/sample - loss: 0.0707 - accuracy: 0.9844 - val_loss: 0.3232 - val_accuracy: 0.9167\n",
      "Epoch 41/50\n",
      "192/192 [==============================] - 3s 18ms/sample - loss: 0.0413 - accuracy: 0.9896 - val_loss: 0.4598 - val_accuracy: 0.8750\n",
      "Epoch 42/50\n",
      "192/192 [==============================] - 3s 18ms/sample - loss: 0.0333 - accuracy: 0.9896 - val_loss: 0.3087 - val_accuracy: 0.8958\n",
      "Epoch 43/50\n",
      "192/192 [==============================] - 4s 18ms/sample - loss: 0.0885 - accuracy: 0.9688 - val_loss: 0.2962 - val_accuracy: 0.8958\n",
      "Epoch 44/50\n",
      "192/192 [==============================] - 4s 18ms/sample - loss: 0.1136 - accuracy: 0.9583 - val_loss: 0.4932 - val_accuracy: 0.9167\n",
      "Epoch 45/50\n",
      "192/192 [==============================] - 4s 19ms/sample - loss: 0.1354 - accuracy: 0.9583 - val_loss: 0.3842 - val_accuracy: 0.9167\n",
      "Epoch 46/50\n",
      "192/192 [==============================] - 4s 18ms/sample - loss: 0.0375 - accuracy: 0.9896 - val_loss: 0.4161 - val_accuracy: 0.8750\n",
      "Epoch 47/50\n",
      "192/192 [==============================] - 4s 18ms/sample - loss: 0.0446 - accuracy: 1.0000 - val_loss: 0.4766 - val_accuracy: 0.9167\n",
      "Epoch 48/50\n",
      "192/192 [==============================] - 4s 18ms/sample - loss: 0.0487 - accuracy: 0.9792 - val_loss: 0.5727 - val_accuracy: 0.9375\n",
      "Epoch 49/50\n",
      "192/192 [==============================] - 4s 18ms/sample - loss: 0.0276 - accuracy: 1.0000 - val_loss: 0.6924 - val_accuracy: 0.8958\n",
      "Epoch 50/50\n",
      "192/192 [==============================] - 3s 18ms/sample - loss: 0.0245 - accuracy: 1.0000 - val_loss: 0.8287 - val_accuracy: 0.8750\n"
     ]
    }
   ],
   "source": [
    "hist_n = model_s.fit(x_train, y_train, batch_size=32, epochs=50, verbose=1,validation_data=(x_val, y_val))"
   ]
  },
  {
   "cell_type": "code",
   "execution_count": 17,
   "metadata": {},
   "outputs": [
    {
     "name": "stdout",
     "output_type": "stream",
     "text": [
      "60/60 [==============================] - 0s 4ms/sample - loss: 1.4016 - accuracy: 0.8333\n",
      "score = [1.401577647527059, 0.8333333]\n"
     ]
    }
   ],
   "source": [
    "score = model_s.evaluate(x_test, y_test)\n",
    "print(\"score =\", score)"
   ]
  },
  {
   "cell_type": "code",
   "execution_count": 40,
   "metadata": {},
   "outputs": [
    {
     "data": {
      "image/png": "[encoded data removed]",
      "text/plain": [
       "<Figure size 432x288 with 1 Axes>"
      ]
     },
     "metadata": {
      "needs_background": "light"
     },
     "output_type": "display_data"
    },
    {
     "data": {
      "image/png": "[encoded data removed]",
      "text/plain": [
       "<Figure size 432x288 with 1 Axes>"
      ]
     },
     "metadata": {
      "needs_background": "light"
     },
     "output_type": "display_data"
    }
   ],
   "source": [
    "%matplotlib inline\n",
    "\n",
    "accuracy = hist_n.history['accuracy']\n",
    "val_accuracy = hist_n.history['val_accuracy']\n",
    "loss = hist_n.history['loss']\n",
    "val_loss = hist_n.history['val_loss']\n",
    "epochs = range(len(accuracy))\n",
    "\n",
    "plt.plot(epochs, accuracy, 'bo', label='Training accuracy')\n",
    "plt.plot(epochs, val_accuracy, 'b', label='Validation accuracy')\n",
    "plt.title('Training and validation accuracy')\n",
    "plt.legend()\n",
    "plt.figure()\n",
    "\n",
    "plt.plot(epochs, loss, 'bo', label='Training loss')\n",
    "plt.plot(epochs, val_loss, 'b', label='Validation loss')\n",
    "plt.title('Training and validation loss')\n",
    "plt.legend()\n",
    "plt.show()"
   ]
  },
  {
   "cell_type": "markdown",
   "metadata": {},
   "source": [
    "Data Augmentation pre model training"
   ]
  },
  {
   "cell_type": "code",
   "execution_count": 18,
   "metadata": {},
   "outputs": [],
   "source": [
    "datagen = ImageDataGenerator(\n",
    "        rotation_range=40,\n",
    "        width_shift_range=0.2,\n",
    "        height_shift_range=0.2,\n",
    "        shear_range=0.2,\n",
    "        zoom_range=0.2,\n",
    "        horizontal_flip=True,\n",
    "        fill_mode='nearest')"
   ]
  },
  {
   "cell_type": "code",
   "execution_count": 19,
   "metadata": {},
   "outputs": [],
   "source": [
    "batches = datagen.flow(x_train, y_train, batch_size=32)\n",
    "val_batches = datagen.flow(x_val, y_val, batch_size=32)"
   ]
  },
  {
   "cell_type": "code",
   "execution_count": 20,
   "metadata": {},
   "outputs": [
    {
     "name": "stdout",
     "output_type": "stream",
     "text": [
      "WARNING:tensorflow:sample_weight modes were coerced from\n",
      "  ...\n",
      "    to  \n",
      "  ['...']\n",
      "WARNING:tensorflow:sample_weight modes were coerced from\n",
      "  ...\n",
      "    to  \n",
      "  ['...']\n",
      "Train for 6 steps, validate for 1 steps\n",
      "Epoch 1/50\n",
      "6/6 [==============================] - 4s 717ms/step - loss: 0.7766 - accuracy: 0.8229 - val_loss: 0.2118 - val_accuracy: 0.9062\n",
      "Epoch 2/50\n",
      "6/6 [==============================] - 4s 652ms/step - loss: 0.5958 - accuracy: 0.8177 - val_loss: 0.3590 - val_accuracy: 0.8750\n",
      "Epoch 3/50\n",
      "6/6 [==============================] - 4s 645ms/step - loss: 0.5191 - accuracy: 0.8281 - val_loss: 0.2712 - val_accuracy: 0.9062\n",
      "Epoch 4/50\n",
      "6/6 [==============================] - 4s 647ms/step - loss: 0.4048 - accuracy: 0.8698 - val_loss: 0.2807 - val_accuracy: 0.8750\n",
      "Epoch 5/50\n",
      "6/6 [==============================] - 4s 641ms/step - loss: 0.4229 - accuracy: 0.8594 - val_loss: 0.3783 - val_accuracy: 0.8750\n",
      "Epoch 6/50\n",
      "6/6 [==============================] - 4s 663ms/step - loss: 0.4090 - accuracy: 0.8698 - val_loss: 0.4660 - val_accuracy: 0.9062\n",
      "Epoch 7/50\n",
      "6/6 [==============================] - 4s 650ms/step - loss: 0.3627 - accuracy: 0.8802 - val_loss: 0.1724 - val_accuracy: 0.9375\n",
      "Epoch 8/50\n",
      "6/6 [==============================] - 4s 659ms/step - loss: 0.2989 - accuracy: 0.9062 - val_loss: 0.6539 - val_accuracy: 0.9062\n",
      "Epoch 9/50\n",
      "6/6 [==============================] - 4s 653ms/step - loss: 0.3503 - accuracy: 0.8906 - val_loss: 0.5296 - val_accuracy: 0.8750\n",
      "Epoch 10/50\n",
      "6/6 [==============================] - 4s 639ms/step - loss: 0.3437 - accuracy: 0.8698 - val_loss: 0.7008 - val_accuracy: 0.8750\n",
      "Epoch 11/50\n",
      "6/6 [==============================] - 4s 639ms/step - loss: 0.3313 - accuracy: 0.8906 - val_loss: 0.3034 - val_accuracy: 0.9375\n",
      "Epoch 12/50\n",
      "6/6 [==============================] - 4s 636ms/step - loss: 0.2852 - accuracy: 0.9010 - val_loss: 0.6623 - val_accuracy: 0.8125\n",
      "Epoch 13/50\n",
      "6/6 [==============================] - 4s 656ms/step - loss: 0.3472 - accuracy: 0.9062 - val_loss: 0.4244 - val_accuracy: 0.8750\n",
      "Epoch 14/50\n",
      "6/6 [==============================] - 4s 658ms/step - loss: 0.2417 - accuracy: 0.8958 - val_loss: 0.4269 - val_accuracy: 0.9375\n",
      "Epoch 15/50\n",
      "6/6 [==============================] - 4s 642ms/step - loss: 0.2907 - accuracy: 0.9167 - val_loss: 0.2203 - val_accuracy: 0.9375\n",
      "Epoch 16/50\n",
      "6/6 [==============================] - 4s 649ms/step - loss: 0.2186 - accuracy: 0.9479 - val_loss: 0.5419 - val_accuracy: 0.9062\n",
      "Epoch 17/50\n",
      "6/6 [==============================] - 4s 647ms/step - loss: 0.2157 - accuracy: 0.9375 - val_loss: 0.6077 - val_accuracy: 0.9375\n",
      "Epoch 18/50\n",
      "6/6 [==============================] - 4s 658ms/step - loss: 0.2331 - accuracy: 0.9219 - val_loss: 0.6876 - val_accuracy: 0.9062\n",
      "Epoch 19/50\n",
      "6/6 [==============================] - 4s 659ms/step - loss: 0.1555 - accuracy: 0.9427 - val_loss: 0.3739 - val_accuracy: 0.9375\n",
      "Epoch 20/50\n",
      "6/6 [==============================] - 4s 691ms/step - loss: 0.1695 - accuracy: 0.9427 - val_loss: 0.4209 - val_accuracy: 0.9375\n",
      "Epoch 21/50\n",
      "6/6 [==============================] - 4s 649ms/step - loss: 0.1759 - accuracy: 0.9479 - val_loss: 0.7769 - val_accuracy: 0.9062\n",
      "Epoch 22/50\n",
      "6/6 [==============================] - 4s 651ms/step - loss: 0.3128 - accuracy: 0.9323 - val_loss: 0.5391 - val_accuracy: 0.9062\n",
      "Epoch 23/50\n",
      "6/6 [==============================] - 4s 647ms/step - loss: 0.1835 - accuracy: 0.9375 - val_loss: 0.5212 - val_accuracy: 0.9062\n",
      "Epoch 24/50\n",
      "6/6 [==============================] - 4s 666ms/step - loss: 0.1865 - accuracy: 0.9375 - val_loss: 0.6234 - val_accuracy: 0.9375\n",
      "Epoch 25/50\n",
      "6/6 [==============================] - 4s 649ms/step - loss: 0.2082 - accuracy: 0.9219 - val_loss: 0.8659 - val_accuracy: 0.9375\n",
      "Epoch 26/50\n",
      "6/6 [==============================] - 4s 645ms/step - loss: 0.1975 - accuracy: 0.9115 - val_loss: 1.2140 - val_accuracy: 0.8438\n",
      "Epoch 27/50\n",
      "6/6 [==============================] - 4s 644ms/step - loss: 0.1821 - accuracy: 0.9219 - val_loss: 0.6643 - val_accuracy: 0.9062\n",
      "Epoch 28/50\n",
      "6/6 [==============================] - 4s 668ms/step - loss: 0.2578 - accuracy: 0.8958 - val_loss: 0.4472 - val_accuracy: 0.9375\n",
      "Epoch 29/50\n",
      "6/6 [==============================] - 4s 644ms/step - loss: 0.2435 - accuracy: 0.9375 - val_loss: 0.2229 - val_accuracy: 0.9375\n",
      "Epoch 30/50\n",
      "6/6 [==============================] - 4s 649ms/step - loss: 0.1925 - accuracy: 0.9375 - val_loss: 0.6241 - val_accuracy: 0.9375\n",
      "Epoch 31/50\n",
      "6/6 [==============================] - 4s 645ms/step - loss: 0.1966 - accuracy: 0.9479 - val_loss: 0.6932 - val_accuracy: 0.9375\n",
      "Epoch 32/50\n",
      "6/6 [==============================] - 4s 640ms/step - loss: 0.1681 - accuracy: 0.9427 - val_loss: 0.7233 - val_accuracy: 0.9062\n",
      "Epoch 33/50\n",
      "6/6 [==============================] - 4s 657ms/step - loss: 0.1648 - accuracy: 0.9531 - val_loss: 1.0832 - val_accuracy: 0.9062\n",
      "Epoch 34/50\n",
      "6/6 [==============================] - 4s 660ms/step - loss: 0.1278 - accuracy: 0.9740 - val_loss: 1.1627 - val_accuracy: 0.8750\n",
      "Epoch 35/50\n",
      "6/6 [==============================] - 4s 656ms/step - loss: 0.1929 - accuracy: 0.9323 - val_loss: 1.4587 - val_accuracy: 0.9375\n",
      "Epoch 36/50\n",
      "6/6 [==============================] - 4s 653ms/step - loss: 0.2288 - accuracy: 0.9323 - val_loss: 0.8495 - val_accuracy: 0.9062\n",
      "Epoch 37/50\n",
      "6/6 [==============================] - 4s 662ms/step - loss: 0.1367 - accuracy: 0.9583 - val_loss: 0.7200 - val_accuracy: 0.8438\n",
      "Epoch 38/50\n",
      "6/6 [==============================] - 4s 658ms/step - loss: 0.1591 - accuracy: 0.9531 - val_loss: 0.7170 - val_accuracy: 0.8438\n",
      "Epoch 39/50\n",
      "6/6 [==============================] - 4s 660ms/step - loss: 0.1319 - accuracy: 0.9792 - val_loss: 0.7347 - val_accuracy: 0.8750\n",
      "Epoch 40/50\n",
      "6/6 [==============================] - 4s 677ms/step - loss: 0.1171 - accuracy: 0.9635 - val_loss: 0.7146 - val_accuracy: 0.9375\n",
      "Epoch 41/50\n",
      "6/6 [==============================] - 4s 652ms/step - loss: 0.1643 - accuracy: 0.9583 - val_loss: 0.7391 - val_accuracy: 0.9375\n",
      "Epoch 42/50\n",
      "6/6 [==============================] - 4s 649ms/step - loss: 0.1370 - accuracy: 0.9635 - val_loss: 1.4269 - val_accuracy: 0.8750\n",
      "Epoch 43/50\n",
      "6/6 [==============================] - 4s 655ms/step - loss: 0.1399 - accuracy: 0.9688 - val_loss: 1.6553 - val_accuracy: 0.9062\n",
      "Epoch 44/50\n",
      "6/6 [==============================] - 4s 679ms/step - loss: 0.1293 - accuracy: 0.9740 - val_loss: 1.7609 - val_accuracy: 0.8750\n",
      "Epoch 45/50\n",
      "6/6 [==============================] - 4s 673ms/step - loss: 0.1107 - accuracy: 0.9531 - val_loss: 0.6806 - val_accuracy: 0.9375\n",
      "Epoch 46/50\n",
      "6/6 [==============================] - 4s 648ms/step - loss: 0.1395 - accuracy: 0.9531 - val_loss: 1.1569 - val_accuracy: 0.9375\n",
      "Epoch 47/50\n",
      "6/6 [==============================] - 4s 664ms/step - loss: 0.1330 - accuracy: 0.9583 - val_loss: 1.2142 - val_accuracy: 0.9062\n",
      "Epoch 48/50\n",
      "6/6 [==============================] - 4s 657ms/step - loss: 0.1339 - accuracy: 0.9531 - val_loss: 1.5369 - val_accuracy: 0.8750\n",
      "Epoch 49/50\n",
      "6/6 [==============================] - 4s 670ms/step - loss: 0.1299 - accuracy: 0.9583 - val_loss: 0.7075 - val_accuracy: 0.9375\n",
      "Epoch 50/50\n",
      "6/6 [==============================] - 4s 667ms/step - loss: 0.1489 - accuracy: 0.9375 - val_loss: 0.8677 - val_accuracy: 0.9375\n"
     ]
    }
   ],
   "source": [
    "hist_s = model_s.fit(batches, steps_per_epoch=192//32, epochs=50,\n",
    "          validation_data=val_batches, validation_steps=48//32)"
   ]
  },
  {
   "cell_type": "code",
   "execution_count": 21,
   "metadata": {},
   "outputs": [
    {
     "name": "stdout",
     "output_type": "stream",
     "text": [
      "60/60 [==============================] - 0s 4ms/sample - loss: 1.0129 - accuracy: 0.8500\n",
      "score = [1.012857695420583, 0.85]\n"
     ]
    }
   ],
   "source": [
    "score = model_s.evaluate(x_test, y_test)\n",
    "print(\"score =\", score)"
   ]
  },
  {
   "cell_type": "code",
   "execution_count": 41,
   "metadata": {},
   "outputs": [
    {
     "data": {
      "image/png": "[encoded data removed]",
      "text/plain": [
       "<Figure size 432x288 with 1 Axes>"
      ]
     },
     "metadata": {
      "needs_background": "light"
     },
     "output_type": "display_data"
    },
    {
     "data": {
      "image/png": "[encoded data removed]",
      "text/plain": [
       "<Figure size 432x288 with 1 Axes>"
      ]
     },
     "metadata": {
      "needs_background": "light"
     },
     "output_type": "display_data"
    }
   ],
   "source": [
    "%matplotlib inline\n",
    "\n",
    "accuracy = hist_s.history['accuracy']\n",
    "val_accuracy = hist_s.history['val_accuracy']\n",
    "loss = hist_s.history['loss']\n",
    "val_loss = hist_s.history['val_loss']\n",
    "epochs = range(len(accuracy))\n",
    "\n",
    "plt.plot(epochs, accuracy, 'bo', label='Training accuracy')\n",
    "plt.plot(epochs, val_accuracy, 'b', label='Validation accuracy')\n",
    "plt.title('Training and validation accuracy')\n",
    "plt.legend()\n",
    "plt.figure()\n",
    "\n",
    "plt.plot(epochs, loss, 'bo', label='Training loss')\n",
    "plt.plot(epochs, val_loss, 'b', label='Validation loss')\n",
    "plt.title('Training and validation loss')\n",
    "plt.legend()\n",
    "plt.show()"
   ]
  },
  {
   "cell_type": "markdown",
   "metadata": {},
   "source": [
    "# Change the size of image"
   ]
  },
  {
   "cell_type": "code",
   "execution_count": 44,
   "metadata": {},
   "outputs": [],
   "source": [
    "_x_test1 = image_resize(180, img_test)\n",
    "_x_train1 = image_resize(180, img_train)"
   ]
  },
  {
   "cell_type": "code",
   "execution_count": 45,
   "metadata": {},
   "outputs": [],
   "source": [
    "x_test1 = np.array(_x_test1)\n",
    "X1 = np.array(_x_train1)\n"
   ]
  },
  {
   "cell_type": "code",
   "execution_count": 46,
   "metadata": {},
   "outputs": [],
   "source": [
    "X1 = X1 / 255\n",
    "x_test1 = x_test1 / 255"
   ]
  },
  {
   "cell_type": "code",
   "execution_count": 47,
   "metadata": {},
   "outputs": [],
   "source": [
    "x_train1, x_val1, y_train1, y_val1 = train_test_split(X1, Y, test_size=0.2, random_state=2)"
   ]
  },
  {
   "cell_type": "code",
   "execution_count": 48,
   "metadata": {},
   "outputs": [
    {
     "name": "stdout",
     "output_type": "stream",
     "text": [
      "Model: \"sequential_3\"\n",
      "_________________________________________________________________\n",
      "Layer (type)                 Output Shape              Param #   \n",
      "=================================================================\n",
      "conv2d_9 (Conv2D)            (None, 178, 178, 32)      896       \n",
      "_________________________________________________________________\n",
      "max_pooling2d_9 (MaxPooling2 (None, 89, 89, 32)        0         \n",
      "_________________________________________________________________\n",
      "conv2d_10 (Conv2D)           (None, 87, 87, 32)        9248      \n",
      "_________________________________________________________________\n",
      "max_pooling2d_10 (MaxPooling (None, 43, 43, 32)        0         \n",
      "_________________________________________________________________\n",
      "conv2d_11 (Conv2D)           (None, 41, 41, 64)        18496     \n",
      "_________________________________________________________________\n",
      "max_pooling2d_11 (MaxPooling (None, 20, 20, 64)        0         \n",
      "_________________________________________________________________\n",
      "flatten_3 (Flatten)          (None, 25600)             0         \n",
      "_________________________________________________________________\n",
      "dense_6 (Dense)              (None, 64)                1638464   \n",
      "_________________________________________________________________\n",
      "dropout_3 (Dropout)          (None, 64)                0         \n",
      "_________________________________________________________________\n",
      "dense_7 (Dense)              (None, 4)                 260       \n",
      "=================================================================\n",
      "Total params: 1,667,364\n",
      "Trainable params: 1,667,364\n",
      "Non-trainable params: 0\n",
      "_________________________________________________________________\n"
     ]
    }
   ],
   "source": [
    "model1 = tf.keras.Sequential()\n",
    "model1.add(tf.keras.layers.Conv2D(32, (3, 3), \n",
    "    activation='relu', input_shape=(180, 180, 3)))\n",
    "model1.add(tf.keras.layers.MaxPooling2D(pool_size=(2,2)))\n",
    "model1.add(tf.keras.layers.Conv2D(32, (3, 3), \n",
    "    activation='relu'))\n",
    "model1.add(tf.keras.layers.MaxPooling2D(pool_size=(2,2)))\n",
    "model1.add(tf.keras.layers.Conv2D(64, (3, 3), \n",
    "    activation='relu'))\n",
    "model1.add(tf.keras.layers.MaxPooling2D(pool_size=(2,2)))\n",
    "model1.add(tf.keras.layers.Flatten())\n",
    "model1.add(tf.keras.layers.Dense(64, activation='relu'))\n",
    "model1.add(tf.keras.layers.Dropout(0.5))\n",
    "model1.add(tf.keras.layers.Dense(4, activation='softmax'))\n",
    "model1.compile(loss='categorical_crossentropy',\n",
    "          optimizer='adam',\n",
    "          metrics=['accuracy'])\n",
    "model1.summary()"
   ]
  },
  {
   "cell_type": "code",
   "execution_count": 49,
   "metadata": {},
   "outputs": [
    {
     "name": "stdout",
     "output_type": "stream",
     "text": [
      "Train on 192 samples, validate on 48 samples\n",
      "Epoch 1/50\n",
      "192/192 [==============================] - 3s 14ms/sample - loss: 1.9483 - accuracy: 0.3021 - val_loss: 1.3694 - val_accuracy: 0.3333\n",
      "Epoch 2/50\n",
      "192/192 [==============================] - 2s 11ms/sample - loss: 1.2966 - accuracy: 0.4062 - val_loss: 1.4551 - val_accuracy: 0.3750\n",
      "Epoch 3/50\n",
      "192/192 [==============================] - 2s 11ms/sample - loss: 1.1319 - accuracy: 0.5052 - val_loss: 1.1506 - val_accuracy: 0.5417\n",
      "Epoch 4/50\n",
      "192/192 [==============================] - 2s 11ms/sample - loss: 1.0092 - accuracy: 0.6302 - val_loss: 0.9250 - val_accuracy: 0.7292\n",
      "Epoch 5/50\n",
      "192/192 [==============================] - 2s 11ms/sample - loss: 0.8172 - accuracy: 0.7031 - val_loss: 0.8316 - val_accuracy: 0.7292\n",
      "Epoch 6/50\n",
      "192/192 [==============================] - 2s 11ms/sample - loss: 0.6967 - accuracy: 0.7552 - val_loss: 0.7346 - val_accuracy: 0.7292\n",
      "Epoch 7/50\n",
      "192/192 [==============================] - 2s 12ms/sample - loss: 0.5197 - accuracy: 0.8021 - val_loss: 0.6928 - val_accuracy: 0.7917\n",
      "Epoch 8/50\n",
      "192/192 [==============================] - 2s 11ms/sample - loss: 0.5269 - accuracy: 0.8229 - val_loss: 0.5896 - val_accuracy: 0.7500\n",
      "Epoch 9/50\n",
      "192/192 [==============================] - 2s 11ms/sample - loss: 0.3626 - accuracy: 0.8750 - val_loss: 0.5879 - val_accuracy: 0.8125\n",
      "Epoch 10/50\n",
      "192/192 [==============================] - 2s 12ms/sample - loss: 0.3746 - accuracy: 0.8802 - val_loss: 0.5632 - val_accuracy: 0.8125\n",
      "Epoch 11/50\n",
      "192/192 [==============================] - 2s 11ms/sample - loss: 0.3521 - accuracy: 0.8802 - val_loss: 0.6133 - val_accuracy: 0.7917\n",
      "Epoch 12/50\n",
      "192/192 [==============================] - 2s 11ms/sample - loss: 0.3308 - accuracy: 0.8750 - val_loss: 0.5913 - val_accuracy: 0.7917\n",
      "Epoch 13/50\n",
      "192/192 [==============================] - 2s 11ms/sample - loss: 0.3990 - accuracy: 0.8490 - val_loss: 0.6597 - val_accuracy: 0.7500\n",
      "Epoch 14/50\n",
      "192/192 [==============================] - 2s 11ms/sample - loss: 0.3466 - accuracy: 0.8802 - val_loss: 0.6091 - val_accuracy: 0.8125\n",
      "Epoch 15/50\n",
      "192/192 [==============================] - 2s 11ms/sample - loss: 0.2982 - accuracy: 0.9062 - val_loss: 0.7992 - val_accuracy: 0.7708\n",
      "Epoch 16/50\n",
      "192/192 [==============================] - 2s 11ms/sample - loss: 0.1878 - accuracy: 0.9323 - val_loss: 0.6779 - val_accuracy: 0.7917\n",
      "Epoch 17/50\n",
      "192/192 [==============================] - 2s 11ms/sample - loss: 0.1978 - accuracy: 0.9167 - val_loss: 0.6857 - val_accuracy: 0.7917\n",
      "Epoch 18/50\n",
      "192/192 [==============================] - 2s 11ms/sample - loss: 0.1314 - accuracy: 0.9583 - val_loss: 1.0102 - val_accuracy: 0.7500\n",
      "Epoch 19/50\n",
      "192/192 [==============================] - 2s 12ms/sample - loss: 0.1524 - accuracy: 0.9427 - val_loss: 0.7697 - val_accuracy: 0.7708\n",
      "Epoch 20/50\n",
      "192/192 [==============================] - 2s 11ms/sample - loss: 0.1338 - accuracy: 0.9531 - val_loss: 0.7895 - val_accuracy: 0.7708\n",
      "Epoch 21/50\n",
      "192/192 [==============================] - 2s 11ms/sample - loss: 0.1110 - accuracy: 0.9583 - val_loss: 0.9148 - val_accuracy: 0.7917\n",
      "Epoch 22/50\n",
      "192/192 [==============================] - 2s 11ms/sample - loss: 0.1340 - accuracy: 0.9375 - val_loss: 0.7693 - val_accuracy: 0.7917\n",
      "Epoch 23/50\n",
      "192/192 [==============================] - 2s 11ms/sample - loss: 0.0743 - accuracy: 0.9844 - val_loss: 0.9674 - val_accuracy: 0.8125\n",
      "Epoch 24/50\n",
      "192/192 [==============================] - 2s 11ms/sample - loss: 0.0703 - accuracy: 0.9740 - val_loss: 0.8861 - val_accuracy: 0.8125\n",
      "Epoch 25/50\n",
      "192/192 [==============================] - 2s 11ms/sample - loss: 0.0869 - accuracy: 0.9635 - val_loss: 0.9822 - val_accuracy: 0.7708\n",
      "Epoch 26/50\n",
      "192/192 [==============================] - 2s 11ms/sample - loss: 0.0846 - accuracy: 0.9792 - val_loss: 0.9474 - val_accuracy: 0.7917\n",
      "Epoch 27/50\n",
      "192/192 [==============================] - 2s 11ms/sample - loss: 0.0534 - accuracy: 0.9844 - val_loss: 1.0059 - val_accuracy: 0.8125\n",
      "Epoch 28/50\n",
      "192/192 [==============================] - 2s 11ms/sample - loss: 0.0558 - accuracy: 0.9844 - val_loss: 1.0025 - val_accuracy: 0.8125\n",
      "Epoch 29/50\n",
      "192/192 [==============================] - 2s 11ms/sample - loss: 0.0362 - accuracy: 0.9844 - val_loss: 1.1289 - val_accuracy: 0.7917\n",
      "Epoch 30/50\n",
      "192/192 [==============================] - 2s 11ms/sample - loss: 0.0294 - accuracy: 0.9896 - val_loss: 1.3423 - val_accuracy: 0.7708\n",
      "Epoch 31/50\n",
      "192/192 [==============================] - 2s 11ms/sample - loss: 0.0357 - accuracy: 0.9896 - val_loss: 1.3550 - val_accuracy: 0.7917\n",
      "Epoch 32/50\n",
      "192/192 [==============================] - 2s 12ms/sample - loss: 0.0410 - accuracy: 0.9896 - val_loss: 1.3858 - val_accuracy: 0.8125\n",
      "Epoch 33/50\n",
      "192/192 [==============================] - 2s 11ms/sample - loss: 0.0750 - accuracy: 0.9688 - val_loss: 1.2740 - val_accuracy: 0.7708\n",
      "Epoch 34/50\n",
      "192/192 [==============================] - 2s 11ms/sample - loss: 0.0565 - accuracy: 0.9792 - val_loss: 1.1256 - val_accuracy: 0.7500\n",
      "Epoch 35/50\n",
      "192/192 [==============================] - 2s 11ms/sample - loss: 0.0337 - accuracy: 0.9948 - val_loss: 0.9546 - val_accuracy: 0.7917\n",
      "Epoch 36/50\n",
      "192/192 [==============================] - 2s 11ms/sample - loss: 0.0330 - accuracy: 0.9896 - val_loss: 1.2196 - val_accuracy: 0.8125\n",
      "Epoch 37/50\n",
      "192/192 [==============================] - 2s 12ms/sample - loss: 0.0480 - accuracy: 0.9948 - val_loss: 1.2485 - val_accuracy: 0.8125\n",
      "Epoch 38/50\n",
      "192/192 [==============================] - 2s 11ms/sample - loss: 0.0403 - accuracy: 0.9948 - val_loss: 1.5231 - val_accuracy: 0.7917\n",
      "Epoch 39/50\n",
      "192/192 [==============================] - 2s 11ms/sample - loss: 0.0226 - accuracy: 0.9896 - val_loss: 1.6899 - val_accuracy: 0.7917\n",
      "Epoch 40/50\n",
      "192/192 [==============================] - 2s 11ms/sample - loss: 0.0341 - accuracy: 0.9896 - val_loss: 1.4585 - val_accuracy: 0.7917\n",
      "Epoch 41/50\n",
      "192/192 [==============================] - 2s 11ms/sample - loss: 0.0276 - accuracy: 0.9896 - val_loss: 1.3733 - val_accuracy: 0.7708\n",
      "Epoch 42/50\n",
      "192/192 [==============================] - 2s 11ms/sample - loss: 0.0307 - accuracy: 0.9896 - val_loss: 1.3449 - val_accuracy: 0.7917\n",
      "Epoch 43/50\n",
      "192/192 [==============================] - 2s 11ms/sample - loss: 0.0115 - accuracy: 0.9948 - val_loss: 1.3153 - val_accuracy: 0.7917\n",
      "Epoch 44/50\n",
      "192/192 [==============================] - 2s 11ms/sample - loss: 0.0544 - accuracy: 0.9688 - val_loss: 1.3507 - val_accuracy: 0.7917\n",
      "Epoch 45/50\n",
      "192/192 [==============================] - 2s 11ms/sample - loss: 0.0482 - accuracy: 0.9740 - val_loss: 1.2811 - val_accuracy: 0.7708\n",
      "Epoch 46/50\n",
      "192/192 [==============================] - 2s 11ms/sample - loss: 0.0572 - accuracy: 0.9688 - val_loss: 1.4194 - val_accuracy: 0.7708\n",
      "Epoch 47/50\n",
      "192/192 [==============================] - 2s 12ms/sample - loss: 0.0553 - accuracy: 0.9740 - val_loss: 1.2464 - val_accuracy: 0.8333\n",
      "Epoch 48/50\n",
      "192/192 [==============================] - 2s 11ms/sample - loss: 0.0419 - accuracy: 0.9896 - val_loss: 1.2550 - val_accuracy: 0.7917\n",
      "Epoch 49/50\n",
      "192/192 [==============================] - 2s 11ms/sample - loss: 0.0372 - accuracy: 0.9792 - val_loss: 1.3074 - val_accuracy: 0.7917\n",
      "Epoch 50/50\n",
      "192/192 [==============================] - 2s 11ms/sample - loss: 0.0260 - accuracy: 0.9896 - val_loss: 1.4686 - val_accuracy: 0.7917\n"
     ]
    }
   ],
   "source": [
    "hist1 = model1.fit(x_train1, y_train1, batch_size=32, epochs=50, verbose=1,validation_data=(x_val1, y_val1))"
   ]
  },
  {
   "cell_type": "code",
   "execution_count": 50,
   "metadata": {},
   "outputs": [
    {
     "name": "stdout",
     "output_type": "stream",
     "text": [
      "60/60 [==============================] - 0s 3ms/sample - loss: 1.0848 - accuracy: 0.9000\n",
      "score = [1.0847986300786336, 0.9]\n"
     ]
    }
   ],
   "source": [
    "score = model1.evaluate(x_test1, y_test)\n",
    "print(\"score =\", score)"
   ]
  },
  {
   "cell_type": "code",
   "execution_count": 51,
   "metadata": {},
   "outputs": [
    {
     "data": {
      "image/png": "[encoded data removed]",
      "text/plain": [
       "<Figure size 432x288 with 1 Axes>"
      ]
     },
     "metadata": {
      "needs_background": "light"
     },
     "output_type": "display_data"
    },
    {
     "data": {
      "image/png": "[encoded data removed]",
      "text/plain": [
       "<Figure size 432x288 with 1 Axes>"
      ]
     },
     "metadata": {
      "needs_background": "light"
     },
     "output_type": "display_data"
    }
   ],
   "source": [
    "%matplotlib inline\n",
    "\n",
    "accuracy = hist1.history['accuracy']\n",
    "val_accuracy = hist1.history['val_accuracy']\n",
    "loss = hist1.history['loss']\n",
    "val_loss = hist1.history['val_loss']\n",
    "epochs = range(len(accuracy))\n",
    "\n",
    "plt.plot(epochs, accuracy, 'bo', label='Training accuracy')\n",
    "plt.plot(epochs, val_accuracy, 'b', label='Validation accuracy')\n",
    "plt.title('Training and validation accuracy')\n",
    "plt.legend()\n",
    "plt.figure()\n",
    "\n",
    "plt.plot(epochs, loss, 'bo', label='Training loss')\n",
    "plt.plot(epochs, val_loss, 'b', label='Validation loss')\n",
    "plt.title('Training and validation loss')\n",
    "plt.legend()\n",
    "plt.show()"
   ]
  },
  {
   "cell_type": "markdown",
   "metadata": {},
   "source": [
    "With Data Augmentation"
   ]
  },
  {
   "cell_type": "code",
   "execution_count": 52,
   "metadata": {},
   "outputs": [],
   "source": [
    "batches1 = datagen.flow(x_train1, y_train1, batch_size=32)\n",
    "val_batches1 = datagen.flow(x_val1, y_val1, batch_size=32)"
   ]
  },
  {
   "cell_type": "code",
   "execution_count": 53,
   "metadata": {},
   "outputs": [
    {
     "name": "stdout",
     "output_type": "stream",
     "text": [
      "WARNING:tensorflow:sample_weight modes were coerced from\n",
      "  ...\n",
      "    to  \n",
      "  ['...']\n",
      "WARNING:tensorflow:sample_weight modes were coerced from\n",
      "  ...\n",
      "    to  \n",
      "  ['...']\n",
      "Train for 6 steps, validate for 1 steps\n",
      "Epoch 1/50\n",
      "6/6 [==============================] - 3s 466ms/step - loss: 0.6733 - accuracy: 0.8438 - val_loss: 0.6084 - val_accuracy: 0.7812\n",
      "Epoch 2/50\n",
      "6/6 [==============================] - 2s 416ms/step - loss: 0.4115 - accuracy: 0.8906 - val_loss: 0.7522 - val_accuracy: 0.8125\n",
      "Epoch 3/50\n",
      "6/6 [==============================] - 2s 407ms/step - loss: 0.5013 - accuracy: 0.8750 - val_loss: 0.4281 - val_accuracy: 0.8438\n",
      "Epoch 4/50\n",
      "6/6 [==============================] - 3s 421ms/step - loss: 0.4651 - accuracy: 0.8698 - val_loss: 0.6031 - val_accuracy: 0.7812\n",
      "Epoch 5/50\n",
      "6/6 [==============================] - 2s 415ms/step - loss: 0.2953 - accuracy: 0.9115 - val_loss: 0.4212 - val_accuracy: 0.8438\n",
      "Epoch 6/50\n",
      "6/6 [==============================] - 2s 412ms/step - loss: 0.3067 - accuracy: 0.9010 - val_loss: 0.4567 - val_accuracy: 0.8438\n",
      "Epoch 7/50\n",
      "6/6 [==============================] - 3s 423ms/step - loss: 0.3949 - accuracy: 0.8906 - val_loss: 0.3018 - val_accuracy: 0.8750\n",
      "Epoch 8/50\n",
      "6/6 [==============================] - 3s 417ms/step - loss: 0.2951 - accuracy: 0.9115 - val_loss: 0.4255 - val_accuracy: 0.8750\n",
      "Epoch 9/50\n",
      "6/6 [==============================] - 2s 409ms/step - loss: 0.3881 - accuracy: 0.8698 - val_loss: 0.4662 - val_accuracy: 0.8750\n",
      "Epoch 10/50\n",
      "6/6 [==============================] - 3s 421ms/step - loss: 0.3267 - accuracy: 0.8958 - val_loss: 0.4508 - val_accuracy: 0.8125\n",
      "Epoch 11/50\n",
      "6/6 [==============================] - 2s 415ms/step - loss: 0.2892 - accuracy: 0.9010 - val_loss: 0.4936 - val_accuracy: 0.8438\n",
      "Epoch 12/50\n",
      "6/6 [==============================] - 3s 418ms/step - loss: 0.3399 - accuracy: 0.9271 - val_loss: 0.4211 - val_accuracy: 0.8750\n",
      "Epoch 13/50\n",
      "6/6 [==============================] - 3s 446ms/step - loss: 0.3616 - accuracy: 0.8906 - val_loss: 0.4664 - val_accuracy: 0.8125\n",
      "Epoch 14/50\n",
      "6/6 [==============================] - 3s 435ms/step - loss: 0.2786 - accuracy: 0.9062 - val_loss: 0.3682 - val_accuracy: 0.9062\n",
      "Epoch 15/50\n",
      "6/6 [==============================] - 3s 431ms/step - loss: 0.2666 - accuracy: 0.9323 - val_loss: 0.5087 - val_accuracy: 0.8438\n",
      "Epoch 16/50\n",
      "6/6 [==============================] - 3s 419ms/step - loss: 0.2743 - accuracy: 0.9115 - val_loss: 0.4304 - val_accuracy: 0.8750\n",
      "Epoch 17/50\n",
      "6/6 [==============================] - 3s 435ms/step - loss: 0.1786 - accuracy: 0.9427 - val_loss: 0.2988 - val_accuracy: 0.8750\n",
      "Epoch 18/50\n",
      "6/6 [==============================] - 2s 407ms/step - loss: 0.3067 - accuracy: 0.9271 - val_loss: 0.8495 - val_accuracy: 0.7812\n",
      "Epoch 19/50\n",
      "6/6 [==============================] - 3s 420ms/step - loss: 0.2408 - accuracy: 0.9271 - val_loss: 0.6669 - val_accuracy: 0.8750\n",
      "Epoch 20/50\n",
      "6/6 [==============================] - 3s 426ms/step - loss: 0.2154 - accuracy: 0.9375 - val_loss: 0.3784 - val_accuracy: 0.8750\n",
      "Epoch 21/50\n",
      "6/6 [==============================] - 2s 415ms/step - loss: 0.2242 - accuracy: 0.9167 - val_loss: 0.5098 - val_accuracy: 0.9062\n",
      "Epoch 22/50\n",
      "6/6 [==============================] - 2s 411ms/step - loss: 0.3218 - accuracy: 0.9062 - val_loss: 0.5442 - val_accuracy: 0.8125\n",
      "Epoch 23/50\n",
      "6/6 [==============================] - 3s 424ms/step - loss: 0.2636 - accuracy: 0.9167 - val_loss: 0.6295 - val_accuracy: 0.8438\n",
      "Epoch 24/50\n",
      "6/6 [==============================] - 2s 408ms/step - loss: 0.3713 - accuracy: 0.8854 - val_loss: 0.5231 - val_accuracy: 0.8438\n",
      "Epoch 25/50\n",
      "6/6 [==============================] - 3s 432ms/step - loss: 0.2015 - accuracy: 0.9479 - val_loss: 0.3835 - val_accuracy: 0.9062\n",
      "Epoch 26/50\n",
      "6/6 [==============================] - 2s 414ms/step - loss: 0.2442 - accuracy: 0.9375 - val_loss: 0.7446 - val_accuracy: 0.8438\n",
      "Epoch 27/50\n",
      "6/6 [==============================] - 2s 409ms/step - loss: 0.1964 - accuracy: 0.9323 - val_loss: 0.6846 - val_accuracy: 0.8750\n",
      "Epoch 28/50\n",
      "6/6 [==============================] - 2s 411ms/step - loss: 0.2478 - accuracy: 0.9271 - val_loss: 0.9026 - val_accuracy: 0.8750\n",
      "Epoch 29/50\n",
      "6/6 [==============================] - 2s 412ms/step - loss: 0.1502 - accuracy: 0.9583 - val_loss: 0.6872 - val_accuracy: 0.9062\n",
      "Epoch 30/50\n",
      "6/6 [==============================] - 2s 412ms/step - loss: 0.2278 - accuracy: 0.9271 - val_loss: 0.8871 - val_accuracy: 0.8750\n",
      "Epoch 31/50\n",
      "6/6 [==============================] - 2s 412ms/step - loss: 0.1772 - accuracy: 0.9375 - val_loss: 0.8320 - val_accuracy: 0.8125\n",
      "Epoch 32/50\n",
      "6/6 [==============================] - 3s 425ms/step - loss: 0.1713 - accuracy: 0.9427 - val_loss: 0.9951 - val_accuracy: 0.8125\n",
      "Epoch 33/50\n",
      "6/6 [==============================] - 2s 410ms/step - loss: 0.2021 - accuracy: 0.9323 - val_loss: 0.8515 - val_accuracy: 0.8438\n",
      "Epoch 34/50\n",
      "6/6 [==============================] - 2s 415ms/step - loss: 0.2152 - accuracy: 0.9271 - val_loss: 0.9173 - val_accuracy: 0.8125\n",
      "Epoch 35/50\n",
      "6/6 [==============================] - 3s 419ms/step - loss: 0.2960 - accuracy: 0.9219 - val_loss: 0.9966 - val_accuracy: 0.8750\n",
      "Epoch 36/50\n",
      "6/6 [==============================] - 2s 411ms/step - loss: 0.1723 - accuracy: 0.9531 - val_loss: 1.1368 - val_accuracy: 0.8125\n",
      "Epoch 37/50\n",
      "6/6 [==============================] - 2s 409ms/step - loss: 0.2261 - accuracy: 0.9271 - val_loss: 0.8420 - val_accuracy: 0.8438\n",
      "Epoch 38/50\n",
      "6/6 [==============================] - 3s 420ms/step - loss: 0.2314 - accuracy: 0.9323 - val_loss: 1.0460 - val_accuracy: 0.8438\n",
      "Epoch 39/50\n",
      "6/6 [==============================] - 3s 436ms/step - loss: 0.1773 - accuracy: 0.9375 - val_loss: 1.0820 - val_accuracy: 0.8125\n",
      "Epoch 40/50\n",
      "6/6 [==============================] - 3s 425ms/step - loss: 0.1685 - accuracy: 0.9427 - val_loss: 0.7434 - val_accuracy: 0.8750\n",
      "Epoch 41/50\n",
      "6/6 [==============================] - 3s 433ms/step - loss: 0.1870 - accuracy: 0.9323 - val_loss: 0.5622 - val_accuracy: 0.8750\n",
      "Epoch 42/50\n",
      "6/6 [==============================] - 2s 405ms/step - loss: 0.1688 - accuracy: 0.9427 - val_loss: 0.9307 - val_accuracy: 0.8750\n",
      "Epoch 43/50\n",
      "6/6 [==============================] - 2s 407ms/step - loss: 0.2434 - accuracy: 0.9115 - val_loss: 0.9965 - val_accuracy: 0.9062\n",
      "Epoch 44/50\n",
      "6/6 [==============================] - 2s 413ms/step - loss: 0.2642 - accuracy: 0.9219 - val_loss: 0.9165 - val_accuracy: 0.8438\n",
      "Epoch 45/50\n",
      "6/6 [==============================] - 2s 412ms/step - loss: 0.2027 - accuracy: 0.9167 - val_loss: 0.8856 - val_accuracy: 0.8750\n",
      "Epoch 46/50\n",
      "6/6 [==============================] - 2s 414ms/step - loss: 0.2043 - accuracy: 0.9271 - val_loss: 0.7317 - val_accuracy: 0.8438\n",
      "Epoch 47/50\n",
      "6/6 [==============================] - 2s 406ms/step - loss: 0.1783 - accuracy: 0.9531 - val_loss: 0.9880 - val_accuracy: 0.8125\n",
      "Epoch 48/50\n",
      "6/6 [==============================] - 2s 408ms/step - loss: 0.1556 - accuracy: 0.9531 - val_loss: 0.9459 - val_accuracy: 0.8750\n",
      "Epoch 49/50\n",
      "6/6 [==============================] - 2s 408ms/step - loss: 0.1379 - accuracy: 0.9583 - val_loss: 0.8846 - val_accuracy: 0.8438\n",
      "Epoch 50/50\n",
      "6/6 [==============================] - 3s 428ms/step - loss: 0.1454 - accuracy: 0.9531 - val_loss: 0.8868 - val_accuracy: 0.8750\n"
     ]
    }
   ],
   "source": [
    "hist1_ = model1.fit(batches1, steps_per_epoch=192//32, epochs=50,\n",
    "          validation_data=val_batches1, validation_steps=48//32)"
   ]
  },
  {
   "cell_type": "code",
   "execution_count": 54,
   "metadata": {},
   "outputs": [
    {
     "name": "stdout",
     "output_type": "stream",
     "text": [
      "60/60 [==============================] - 0s 3ms/sample - loss: 0.5287 - accuracy: 0.9000\n",
      "score = [0.5286532362302144, 0.9]\n"
     ]
    }
   ],
   "source": [
    "score = model1.evaluate(x_test1, y_test)\n",
    "print(\"score =\", score)"
   ]
  },
  {
   "cell_type": "code",
   "execution_count": 55,
   "metadata": {},
   "outputs": [
    {
     "data": {
      "image/png": "[encoded data removed]",
      "text/plain": [
       "<Figure size 432x288 with 1 Axes>"
      ]
     },
     "metadata": {
      "needs_background": "light"
     },
     "output_type": "display_data"
    },
    {
     "data": {
      "image/png": "[encoded data removed]",
      "text/plain": [
       "<Figure size 432x288 with 1 Axes>"
      ]
     },
     "metadata": {
      "needs_background": "light"
     },
     "output_type": "display_data"
    }
   ],
   "source": [
    "%matplotlib inline\n",
    "\n",
    "accuracy = hist1_.history['accuracy']\n",
    "val_accuracy = hist1_.history['val_accuracy']\n",
    "loss = hist1_.history['loss']\n",
    "val_loss = hist1_.history['val_loss']\n",
    "epochs = range(len(accuracy))\n",
    "\n",
    "plt.plot(epochs, accuracy, 'bo', label='Training accuracy')\n",
    "plt.plot(epochs, val_accuracy, 'b', label='Validation accuracy')\n",
    "plt.title('Training and validation accuracy')\n",
    "plt.legend()\n",
    "plt.figure()\n",
    "\n",
    "plt.plot(epochs, loss, 'bo', label='Training loss')\n",
    "plt.plot(epochs, val_loss, 'b', label='Validation loss')\n",
    "plt.title('Training and validation loss')\n",
    "plt.legend()\n",
    "plt.show()"
   ]
  }
 ],
 "metadata": {
  "kernelspec": {
   "display_name": "Python 3",
   "language": "python",
   "name": "python3"
  },
  "language_info": {
   "codemirror_mode": {
    "name": "ipython",
    "version": 3
   },
   "file_extension": ".py",
   "mimetype": "text/x-python",
   "name": "python",
   "nbconvert_exporter": "python",
   "pygments_lexer": "ipython3",
   "version": "3.7.6"
  }
 },
 "nbformat": 4,
 "nbformat_minor": 4
}
